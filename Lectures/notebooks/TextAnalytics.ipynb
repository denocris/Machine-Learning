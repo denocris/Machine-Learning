{
 "cells": [
  {
   "cell_type": "code",
   "execution_count": 1,
   "metadata": {
    "collapsed": true,
    "deletable": true,
    "editable": true
   },
   "outputs": [],
   "source": [
    "%matplotlib inline\n",
    "import matplotlib\n",
    "import matplotlib.pylab as plt\n",
    "import seaborn as sns\n",
    "matplotlib.rcParams['savefig.dpi'] = 144\n",
    "matplotlib.rcParams['figure.figsize'] = (10,7)\n",
    "matplotlib.rcParams['xtick.labelsize'] = 15\n",
    "matplotlib.rcParams['ytick.labelsize'] = 15\n",
    "matplotlib.rcParams['lines.markersize'] = 15\n",
    "import numpy as np"
   ]
  },
  {
   "cell_type": "markdown",
   "metadata": {},
   "source": [
    "# News articles example"
   ]
  },
  {
   "cell_type": "markdown",
   "metadata": {},
   "source": [
    "This example is taken from http://scikit-learn.org/stable/datasets/twenty_newsgroups.html"
   ]
  },
  {
   "cell_type": "markdown",
   "metadata": {},
   "source": [
    "### Load the dataset"
   ]
  },
  {
   "cell_type": "code",
   "execution_count": 2,
   "metadata": {
    "collapsed": false,
    "deletable": true,
    "editable": true
   },
   "outputs": [
    {
     "name": "stdout",
     "output_type": "stream",
     "text": [
      "['alt.atheism',\n",
      " 'comp.graphics',\n",
      " 'comp.os.ms-windows.misc',\n",
      " 'comp.sys.ibm.pc.hardware',\n",
      " 'comp.sys.mac.hardware',\n",
      " 'comp.windows.x',\n",
      " 'misc.forsale',\n",
      " 'rec.autos',\n",
      " 'rec.motorcycles',\n",
      " 'rec.sport.baseball',\n",
      " 'rec.sport.hockey',\n",
      " 'sci.crypt',\n",
      " 'sci.electronics',\n",
      " 'sci.med',\n",
      " 'sci.space',\n",
      " 'soc.religion.christian',\n",
      " 'talk.politics.guns',\n",
      " 'talk.politics.mideast',\n",
      " 'talk.politics.misc',\n",
      " 'talk.religion.misc']\n"
     ]
    }
   ],
   "source": [
    "from sklearn.datasets import fetch_20newsgroups\n",
    "from pprint import pprint\n",
    "\n",
    "newsgroups_train = fetch_20newsgroups(subset='train')\n",
    "pprint(list(newsgroups_train.target_names))\n",
    "# dataset contains 11314 news articles in english calssified in 20 categories"
   ]
  },
  {
   "cell_type": "code",
   "execution_count": 3,
   "metadata": {
    "collapsed": false
   },
   "outputs": [
    {
     "name": "stdout",
     "output_type": "stream",
     "text": [
      "(11314,)\n",
      "(11314,)\n",
      "[ 7  4  4  1 14 16 13  3  2  4]\n"
     ]
    }
   ],
   "source": [
    "print newsgroups_train.filenames.shape\n",
    "print newsgroups_train.target.shape\n",
    "# the target is the index of the category stored in newsgroups_train.target_names\n",
    "# i.e.\n",
    "# target = 7 => rec.autos\n",
    "print newsgroups_train.target[:10]"
   ]
  },
  {
   "cell_type": "code",
   "execution_count": 4,
   "metadata": {
    "collapsed": false
   },
   "outputs": [
    {
     "name": "stdout",
     "output_type": "stream",
     "text": [
      "['alt.atheism', 'sci.space']\n",
      "(1073,)\n",
      "(1073,)\n",
      "[0 1 1 1 0 1 1 0 0 0]\n",
      "(713,)\n",
      "(713,)\n",
      "[0 1 0 1 1 0 1 0 0 0]\n",
      "Number of articles about atheism: (480,)\n",
      "Number of articles about space: (593,)\n"
     ]
    }
   ],
   "source": [
    "# In the following we will restrict the DS to only 2 cathegories\n",
    "#       idx = 0      , idx = 1\n",
    "cats = ['alt.atheism', 'sci.space']\n",
    "newsgroups_train = fetch_20newsgroups(subset='train', categories=cats,remove=('headers', 'footers', 'quotes'))\n",
    "newsgroups_test = fetch_20newsgroups(subset='test', categories=cats,remove=('headers', 'footers', 'quotes'))\n",
    "print list(newsgroups_train.target_names)\n",
    "print newsgroups_train.filenames.shape\n",
    "print newsgroups_train.target.shape\n",
    "print newsgroups_train.target[:10]\n",
    "print newsgroups_test.filenames.shape\n",
    "print newsgroups_test.target.shape\n",
    "print newsgroups_test.target[:10]\n",
    "print \"Number of articles about atheism:\",newsgroups_train.target[newsgroups_train.target == 0 ].shape\n",
    "print \"Number of articles about space:\",newsgroups_train.target[newsgroups_train.target == 1 ].shape\n",
    "# the categories are well balanced we don't need to apply any rebalincing technique"
   ]
  },
  {
   "cell_type": "code",
   "execution_count": 5,
   "metadata": {
    "collapsed": false
   },
   "outputs": [
    {
     "data": {
      "text/plain": [
       "u': \\n: >> Please enlighten me.  How is omnipotence contradictory?\\n: \\n: >By definition, all that can occur in the universe is governed by the rules\\n: >of nature. Thus god cannot break them. Anything that god does must be allowed\\n: >in the rules somewhere. Therefore, omnipotence CANNOT exist! It contradicts\\n: >the rules of nature.\\n: \\n: Obviously, an omnipotent god can change the rules.\\n\\nWhen you say, \"By definition\", what exactly is being defined;\\ncertainly not omnipotence. You seem to be saying that the \"rules of\\nnature\" are pre-existant somehow, that they not only define nature but\\nactually cause it. If that\\'s what you mean I\\'d like to hear your\\nfurther thoughts on the question.'"
      ]
     },
     "execution_count": 5,
     "metadata": {},
     "output_type": "execute_result"
    }
   ],
   "source": [
    "# the articles are stored as a list in newsgroups_train.data\n",
    "newsgroups_train.data[0]"
   ]
  },
  {
   "cell_type": "markdown",
   "metadata": {},
   "source": [
    "## From text to vectors"
   ]
  },
  {
   "cell_type": "code",
   "execution_count": 6,
   "metadata": {
    "collapsed": false
   },
   "outputs": [
    {
     "name": "stdout",
     "output_type": "stream",
     "text": [
      "(1073, 18217)\n",
      "18217\n",
      "(1, 18217)\n",
      "Most frequent words:\n",
      "         1 the             10868\n",
      "         2 of               5611\n",
      "         3 to               5492\n",
      "         4 and              4286\n",
      "         5 is               3696\n",
      "         6 in               3274\n",
      "         7 that             3121\n",
      "         8 it               2513\n",
      "         9 for              2040\n",
      "        10 you              1844\n",
      "        11 be               1651\n",
      "        12 are              1536\n",
      "        13 this             1526\n",
      "        14 on               1517\n",
      "        15 not              1452\n",
      "        16 as               1328\n",
      "        17 have             1274\n",
      "        18 or               1077\n",
      "        19 but              1030\n",
      "        20 space             996\n"
     ]
    }
   ],
   "source": [
    "# CountVectorizer is a transformer\n",
    "from sklearn.feature_extraction.text import CountVectorizer\n",
    "\n",
    "cv = CountVectorizer()\n",
    "train_cv = cv.fit_transform(newsgroups_train.data)\n",
    "\n",
    "print train_cv.shape\n",
    "print len(cv.vocabulary_)\n",
    "\n",
    "total_word_count = train_cv.sum(axis = 0)\n",
    "print total_word_count.shape\n",
    "\n",
    "print \"Most frequent words:\"\n",
    "for idx in xrange(1,21):\n",
    "    vocabulary_index = total_word_count.argsort(axis=1)[0,-1*idx]\n",
    "    word = cv.get_feature_names()[vocabulary_index]\n",
    "    print \"{0:10} {1:10} {2:10}\".format(idx,word,total_word_count[0,vocabulary_index])\n",
    "\n",
    "# Here all the to 20 words are not significant at all! \n",
    "# They are actually words that should be not considered"
   ]
  },
  {
   "cell_type": "code",
   "execution_count": 7,
   "metadata": {
    "collapsed": false
   },
   "outputs": [
    {
     "name": "stdout",
     "output_type": "stream",
     "text": [
      "(1073, 17919)\n",
      "17919\n",
      "(1, 17919)\n",
      "Most frequent words:\n",
      "         1 space             996\n",
      "         2 people            472\n",
      "         3 don               413\n",
      "         4 god               412\n",
      "         5 just              398\n",
      "         6 like              384\n",
      "         7 nasa              379\n",
      "         8 think             348\n",
      "         9 time              332\n",
      "        10 does              296\n",
      "        11 know              278\n",
      "        12 launch            268\n",
      "        13 earth             248\n",
      "        14 say               224\n",
      "        15 data              219\n",
      "        16 new               214\n",
      "        17 good              212\n",
      "        18 make              212\n",
      "        19 way               205\n",
      "        20 orbit             203\n"
     ]
    }
   ],
   "source": [
    "# Removing common english words: i.e. articles\n",
    "cv = CountVectorizer(stop_words='english')\n",
    "train_cv = cv.fit_transform(newsgroups_train.data)\n",
    "print train_cv.shape\n",
    "print len(cv.vocabulary_)\n",
    "\n",
    "total_word_count = train_cv.sum(axis = 0)\n",
    "print total_word_count.shape\n",
    "\n",
    "print \"Most frequent words:\"\n",
    "for idx in xrange(1,21):\n",
    "    vocabulary_index = total_word_count.argsort(axis=1)[0,-1*idx]\n",
    "    word = cv.get_feature_names()[vocabulary_index]\n",
    "    print \"{0:10} {1:10} {2:10}\".format(idx,word,total_word_count[0,vocabulary_index])\n",
    "    \n",
    "# By removing the english stopwords some words in the top\n",
    "# 20 starts to be significant to classify the 2 categories\n",
    "# we are considering: 'alt.atheism', 'sci.space' \n",
    "# -space\n",
    "# -nasa\n",
    "# -god\n",
    "# - ...\n",
    "# but the total number of feature is still huge (17919)"
   ]
  },
  {
   "cell_type": "code",
   "execution_count": 8,
   "metadata": {
    "collapsed": false
   },
   "outputs": [
    {
     "name": "stdout",
     "output_type": "stream",
     "text": [
      "(1073, 1634)\n",
      "1634\n",
      "(1, 1634)\n",
      "Most frequent words:\n",
      "         1 space             996\n",
      "         2 people            472\n",
      "         3 don               413\n",
      "         4 god               412\n",
      "         5 just              398\n",
      "         6 like              384\n",
      "         7 nasa              379\n",
      "         8 think             348\n",
      "         9 time              332\n",
      "        10 does              296\n",
      "        11 know              278\n",
      "        12 launch            268\n",
      "        13 earth             248\n",
      "        14 say               224\n",
      "        15 data              219\n",
      "        16 new               214\n",
      "        17 good              212\n",
      "        18 make              212\n",
      "        19 way               205\n",
      "        20 orbit             203\n",
      "        21 atheism           199\n",
      "        22 believe           198\n",
      "        23 said              196\n",
      "        24 shuttle           192\n",
      "        25 use               189\n",
      "        26 satellite         187\n",
      "        27 edu               184\n",
      "        28 lunar             182\n",
      "        29 years             178\n",
      "        30 things            174\n",
      "        31 moon              169\n",
      "        32 world             164\n",
      "        33 long              164\n",
      "        34 program           163\n",
      "        35 atheists          162\n",
      "        36 true              160\n",
      "        37 example           159\n",
      "        38 year              158\n",
      "        39 used              158\n",
      "        40 religion          157\n",
      "        41 information        157\n",
      "        42 science           156\n",
      "        43 jesus             155\n",
      "        44 argument          153\n",
      "        45 ve                150\n",
      "        46 did               149\n",
      "        47 really            149\n",
      "        48 mission           147\n",
      "        49 right             146\n",
      "        50 point             144\n"
     ]
    }
   ],
   "source": [
    "# Removing words which are appearing in all documents\n",
    "# or appearing only in very few documents\n",
    "\n",
    "cv = CountVectorizer(stop_words='english',max_df = 0.9, min_df = 10)\n",
    "train_cv = cv.fit_transform(newsgroups_train.data)\n",
    "print train_cv.shape\n",
    "print len(cv.vocabulary_)\n",
    "\n",
    "total_word_count = train_cv.sum(axis = 0)\n",
    "print total_word_count.shape\n",
    "\n",
    "cv_top_20_words_position = {}\n",
    "\n",
    "print \"Most frequent words:\"\n",
    "for idx in xrange(1,51):\n",
    "    vocabulary_index = total_word_count.argsort(axis=1)[0,-1*idx]\n",
    "    word = cv.get_feature_names()[vocabulary_index]\n",
    "    print \"{0:10} {1:10} {2:10}\".format(idx,word,total_word_count[0,vocabulary_index])\n",
    "    cv_top_20_words_position[word]=idx\n",
    "\n",
    "\n",
    "# The relevant words are still in the top 20\n",
    "# but the total number of features is by far reduced"
   ]
  },
  {
   "cell_type": "markdown",
   "metadata": {},
   "source": [
    "## The TF-IDF transformation"
   ]
  },
  {
   "cell_type": "code",
   "execution_count": 9,
   "metadata": {
    "collapsed": false
   },
   "outputs": [
    {
     "name": "stdout",
     "output_type": "stream",
     "text": [
      "(1073, 1634)\n",
      "(1, 1634)\n",
      "Most frequent words:\n",
      "         1 space           33.74 1         \n",
      "         2 just            26.85 5         \n",
      "         3 don             26.23 3         \n",
      "         4 think           25.40 8         \n",
      "         5 people          24.74 2         \n",
      "         6 like            24.51 6         \n",
      "         7 god             22.51 4         \n",
      "         8 know            20.42 11        \n",
      "         9 does            19.13 10        \n",
      "        10 time            17.59 9         \n",
      "        11 say             15.66 14        \n",
      "        12 nasa            15.50 7         \n",
      "        13 good            14.33 17        \n",
      "        14 things          14.08 30        \n",
      "        15 right           13.71 49        \n",
      "        16 said            13.17 23        \n",
      "        17 way             12.93 19        \n",
      "        18 make            12.91 18        \n",
      "        19 edu             12.90 27        \n",
      "        20 long            12.72 33        \n",
      "        21 did             12.45 46        \n",
      "        22 ve              11.98 45        \n",
      "        23 religion        11.83 40        \n",
      "        24 really          11.60 47        \n",
      "        25 believe         11.33 22        \n",
      "        26 use             11.31 25        \n",
      "        27 moon            11.29 31        \n",
      "        28 launch          11.18 12        \n",
      "        29 going           11.12 -         \n",
      "        30 orbit           11.11 20        \n",
      "        31 world           11.04 32        \n",
      "        32 thing           10.92 -         \n",
      "        33 earth           10.82 13        \n",
      "        34 thanks          10.78 -         \n",
      "        35 new             10.77 16        \n",
      "        36 post            10.62 -         \n",
      "        37 years           10.58 29        \n",
      "        38 need            10.57 -         \n",
      "        39 idea            10.40 -         \n",
      "        40 little          10.29 -         \n",
      "        41 actually        10.26 -         \n",
      "        42 better          10.14 -         \n",
      "        43 true            10.11 36        \n",
      "        44 isn              9.98 -         \n",
      "        45 didn             9.90 -         \n",
      "        46 atheism          9.88 21        \n",
      "        47 thought          9.81 -         \n",
      "        48 used             9.71 39        \n",
      "        49 sure             9.60 -         \n",
      "        50 mean             9.57 -         \n"
     ]
    }
   ],
   "source": [
    "from sklearn.feature_extraction.text import TfidfTransformer\n",
    "\n",
    "tfidf = TfidfTransformer()\n",
    "\n",
    "train_tfidf = tfidf.fit_transform(train_cv)\n",
    "print train_tfidf.shape\n",
    "\n",
    "total_word_tfidf = train_tfidf.sum(axis = 0)\n",
    "print total_word_tfidf.shape\n",
    "\n",
    "print \"Most frequent words:\"\n",
    "for idx in xrange(1,51):\n",
    "    vocabulary_index = total_word_tfidf.argsort(axis=1)[0,-1*idx]\n",
    "    word = cv.get_feature_names()[vocabulary_index]\n",
    "    old_position = '-'\n",
    "    if word in cv_top_20_words_position:\n",
    "        old_position=str(cv_top_20_words_position[word])\n",
    "    print \"{0:10} {1:10} {2:10.2f} {3:10}\".format(idx,word,total_word_tfidf[0,vocabulary_index],old_position)\n",
    "\n"
   ]
  },
  {
   "cell_type": "markdown",
   "metadata": {},
   "source": [
    "## Classification "
   ]
  },
  {
   "cell_type": "code",
   "execution_count": 10,
   "metadata": {
    "collapsed": false
   },
   "outputs": [
    {
     "name": "stdout",
     "output_type": "stream",
     "text": [
      "The accuracy of the model on the training set is: 0.986020503262\n"
     ]
    }
   ],
   "source": [
    "# Training\n",
    "from sklearn.tree import DecisionTreeClassifier\n",
    "\n",
    "dt = DecisionTreeClassifier(criterion='gini', \n",
    "                            splitter='best', \n",
    "                            max_depth=None, \n",
    "                            min_samples_split=2, \n",
    "                            min_samples_leaf=1, \n",
    "                            min_weight_fraction_leaf=0.0, \n",
    "                            max_features=None, \n",
    "                            random_state=1, \n",
    "                            max_leaf_nodes=None, \n",
    "                            min_impurity_split=1e-07, \n",
    "                            class_weight=None, \n",
    "                            presort=False)\n",
    "\n",
    "dt.fit(train_tfidf,newsgroups_train.target)\n",
    "\n",
    "score_train = dt.score(train_tfidf,newsgroups_train.target)\n",
    "print \"The accuracy of the model on the training set is:\",score_train"
   ]
  },
  {
   "cell_type": "code",
   "execution_count": 11,
   "metadata": {
    "collapsed": false
   },
   "outputs": [
    {
     "name": "stdout",
     "output_type": "stream",
     "text": [
      "The accuracy of the model on the training set is: 0.772791023843\n"
     ]
    }
   ],
   "source": [
    "# test\n",
    "test_cv = cv.transform(newsgroups_test.data)\n",
    "test_tfidf = tfidf.transform(test_cv)\n",
    "\n",
    "score_test = dt.score(test_tfidf,newsgroups_test.target)\n",
    "print \"The accuracy of the model on the training set is:\",score_test"
   ]
  },
  {
   "cell_type": "markdown",
   "metadata": {},
   "source": [
    "## How to optimise the model and how to industrialise"
   ]
  },
  {
   "cell_type": "markdown",
   "metadata": {},
   "source": [
    "### Pipeline "
   ]
  },
  {
   "cell_type": "code",
   "execution_count": 89,
   "metadata": {
    "collapsed": false
   },
   "outputs": [
    {
     "name": "stdout",
     "output_type": "stream",
     "text": [
      "None\n",
      "10\n"
     ]
    },
    {
     "data": {
      "text/plain": [
       "Pipeline(steps=[('count_vectorizer', CountVectorizer(analyzer=u'word', binary=False, decode_error=u'strict',\n",
       "        dtype=<type 'numpy.int64'>, encoding=u'utf-8', input=u'content',\n",
       "        lowercase=True, max_df=0.9, max_features=None, min_df=10,\n",
       "        ngram_range=(1, 1), preprocessor=None, stop_words='en...split=2, min_weight_fraction_leaf=0.0,\n",
       "            presort=False, random_state=1, splitter='best'))])"
      ]
     },
     "execution_count": 89,
     "metadata": {},
     "output_type": "execute_result"
    }
   ],
   "source": [
    "from sklearn import pipeline\n",
    "\n",
    "# pipelines allow you to group and manage all the steps of the analysis \n",
    "# in one object\n",
    "pipe = pipeline.Pipeline([\n",
    "                            ('count_vectorizer',CountVectorizer(stop_words='english',max_df = 0.9, min_df = 10)),\n",
    "                            ('tf_idf',TfidfTransformer()),\n",
    "                            ('model',DecisionTreeClassifier(random_state=1))\n",
    "                         ])\n",
    "\n",
    "# you can access to the object contained in each step and configure it\n",
    "count_vec_object = pipe.named_steps['count_vectorizer']\n",
    "\n",
    "# you can configure objects parameters\n",
    "print pipe.get_params()['model__max_depth']\n",
    "pipe.set_params(model__max_depth=10)\n",
    "print pipe.get_params()['model__max_depth']\n",
    "pipe.set_params(model__max_depth=None)"
   ]
  },
  {
   "cell_type": "code",
   "execution_count": 90,
   "metadata": {
    "collapsed": false
   },
   "outputs": [
    {
     "name": "stdout",
     "output_type": "stream",
     "text": [
      "new training score is: 0.986020503262\n",
      "new test score is: 0.772791023843\n"
     ]
    }
   ],
   "source": [
    "pipe = pipe.fit(newsgroups_train.data,newsgroups_train.target)\n",
    "score_train_pipe = pipe.score(newsgroups_train.data,newsgroups_train.target)\n",
    "score_test_pipe = pipe.score(newsgroups_test.data,newsgroups_test.target)\n",
    "print \"new training score is:\",score_train_pipe\n",
    "print \"new test score is:\",score_test_pipe"
   ]
  },
  {
   "cell_type": "markdown",
   "metadata": {},
   "source": [
    "### Parameter optimisation: Grid Search "
   ]
  },
  {
   "cell_type": "code",
   "execution_count": 135,
   "metadata": {
    "collapsed": false
   },
   "outputs": [
    {
     "name": "stdout",
     "output_type": "stream",
     "text": [
      "{'count_vectorizer__min_df': 1, 'model__max_depth': 19}\n"
     ]
    },
    {
     "data": {
      "text/html": [
       "<div>\n",
       "<table border=\"1\" class=\"dataframe\">\n",
       "  <thead>\n",
       "    <tr style=\"text-align: right;\">\n",
       "      <th></th>\n",
       "      <th>mean_fit_time</th>\n",
       "      <th>mean_score_time</th>\n",
       "      <th>mean_test_score</th>\n",
       "      <th>mean_train_score</th>\n",
       "      <th>param_count_vectorizer__min_df</th>\n",
       "      <th>param_model__max_depth</th>\n",
       "      <th>params</th>\n",
       "      <th>rank_test_score</th>\n",
       "      <th>split0_test_score</th>\n",
       "      <th>split0_train_score</th>\n",
       "      <th>split1_test_score</th>\n",
       "      <th>split1_train_score</th>\n",
       "      <th>std_fit_time</th>\n",
       "      <th>std_score_time</th>\n",
       "      <th>std_test_score</th>\n",
       "      <th>std_train_score</th>\n",
       "    </tr>\n",
       "  </thead>\n",
       "  <tbody>\n",
       "    <tr>\n",
       "      <th>0</th>\n",
       "      <td>0.223240</td>\n",
       "      <td>0.134354</td>\n",
       "      <td>0.637465</td>\n",
       "      <td>0.643061</td>\n",
       "      <td>1</td>\n",
       "      <td>1</td>\n",
       "      <td>{u'count_vectorizer__min_df': 1, u'model__max_...</td>\n",
       "      <td>321</td>\n",
       "      <td>0.631285</td>\n",
       "      <td>0.647388</td>\n",
       "      <td>0.643657</td>\n",
       "      <td>0.638734</td>\n",
       "      <td>0.043699</td>\n",
       "      <td>0.010498</td>\n",
       "      <td>0.006186</td>\n",
       "      <td>0.004327</td>\n",
       "    </tr>\n",
       "    <tr>\n",
       "      <th>1</th>\n",
       "      <td>0.189422</td>\n",
       "      <td>0.144906</td>\n",
       "      <td>0.628145</td>\n",
       "      <td>0.654251</td>\n",
       "      <td>1</td>\n",
       "      <td>2</td>\n",
       "      <td>{u'count_vectorizer__min_df': 1, u'model__max_...</td>\n",
       "      <td>334</td>\n",
       "      <td>0.612663</td>\n",
       "      <td>0.666045</td>\n",
       "      <td>0.643657</td>\n",
       "      <td>0.642458</td>\n",
       "      <td>0.004405</td>\n",
       "      <td>0.011512</td>\n",
       "      <td>0.015497</td>\n",
       "      <td>0.011793</td>\n",
       "    </tr>\n",
       "    <tr>\n",
       "      <th>2</th>\n",
       "      <td>0.266547</td>\n",
       "      <td>0.144642</td>\n",
       "      <td>0.649581</td>\n",
       "      <td>0.707385</td>\n",
       "      <td>1</td>\n",
       "      <td>3</td>\n",
       "      <td>{u'count_vectorizer__min_df': 1, u'model__max_...</td>\n",
       "      <td>297</td>\n",
       "      <td>0.636872</td>\n",
       "      <td>0.731343</td>\n",
       "      <td>0.662313</td>\n",
       "      <td>0.683426</td>\n",
       "      <td>0.081912</td>\n",
       "      <td>0.005051</td>\n",
       "      <td>0.012721</td>\n",
       "      <td>0.023958</td>\n",
       "    </tr>\n",
       "    <tr>\n",
       "      <th>3</th>\n",
       "      <td>0.260836</td>\n",
       "      <td>0.153770</td>\n",
       "      <td>0.648649</td>\n",
       "      <td>0.724176</td>\n",
       "      <td>1</td>\n",
       "      <td>4</td>\n",
       "      <td>{u'count_vectorizer__min_df': 1, u'model__max_...</td>\n",
       "      <td>298</td>\n",
       "      <td>0.635009</td>\n",
       "      <td>0.764925</td>\n",
       "      <td>0.662313</td>\n",
       "      <td>0.683426</td>\n",
       "      <td>0.071916</td>\n",
       "      <td>0.010141</td>\n",
       "      <td>0.013652</td>\n",
       "      <td>0.040749</td>\n",
       "    </tr>\n",
       "    <tr>\n",
       "      <th>4</th>\n",
       "      <td>0.207853</td>\n",
       "      <td>0.167801</td>\n",
       "      <td>0.657968</td>\n",
       "      <td>0.742803</td>\n",
       "      <td>1</td>\n",
       "      <td>5</td>\n",
       "      <td>{u'count_vectorizer__min_df': 1, u'model__max_...</td>\n",
       "      <td>284</td>\n",
       "      <td>0.635009</td>\n",
       "      <td>0.770522</td>\n",
       "      <td>0.680970</td>\n",
       "      <td>0.715084</td>\n",
       "      <td>0.016297</td>\n",
       "      <td>0.040254</td>\n",
       "      <td>0.022980</td>\n",
       "      <td>0.027719</td>\n",
       "    </tr>\n",
       "    <tr>\n",
       "      <th>5</th>\n",
       "      <td>0.316841</td>\n",
       "      <td>0.127253</td>\n",
       "      <td>0.670084</td>\n",
       "      <td>0.764236</td>\n",
       "      <td>1</td>\n",
       "      <td>6</td>\n",
       "      <td>{u'count_vectorizer__min_df': 1, u'model__max_...</td>\n",
       "      <td>261</td>\n",
       "      <td>0.640596</td>\n",
       "      <td>0.789179</td>\n",
       "      <td>0.699627</td>\n",
       "      <td>0.739292</td>\n",
       "      <td>0.043254</td>\n",
       "      <td>0.008726</td>\n",
       "      <td>0.029515</td>\n",
       "      <td>0.024943</td>\n",
       "    </tr>\n",
       "    <tr>\n",
       "      <th>6</th>\n",
       "      <td>0.188475</td>\n",
       "      <td>0.130112</td>\n",
       "      <td>0.675676</td>\n",
       "      <td>0.771698</td>\n",
       "      <td>1</td>\n",
       "      <td>7</td>\n",
       "      <td>{u'count_vectorizer__min_df': 1, u'model__max_...</td>\n",
       "      <td>249</td>\n",
       "      <td>0.651769</td>\n",
       "      <td>0.804104</td>\n",
       "      <td>0.699627</td>\n",
       "      <td>0.739292</td>\n",
       "      <td>0.013189</td>\n",
       "      <td>0.001270</td>\n",
       "      <td>0.023929</td>\n",
       "      <td>0.032406</td>\n",
       "    </tr>\n",
       "    <tr>\n",
       "      <th>7</th>\n",
       "      <td>0.192935</td>\n",
       "      <td>0.123057</td>\n",
       "      <td>0.706431</td>\n",
       "      <td>0.786608</td>\n",
       "      <td>1</td>\n",
       "      <td>8</td>\n",
       "      <td>{u'count_vectorizer__min_df': 1, u'model__max_...</td>\n",
       "      <td>197</td>\n",
       "      <td>0.666667</td>\n",
       "      <td>0.817164</td>\n",
       "      <td>0.746269</td>\n",
       "      <td>0.756052</td>\n",
       "      <td>0.000488</td>\n",
       "      <td>0.003433</td>\n",
       "      <td>0.039801</td>\n",
       "      <td>0.030556</td>\n",
       "    </tr>\n",
       "    <tr>\n",
       "      <th>8</th>\n",
       "      <td>0.192161</td>\n",
       "      <td>0.122357</td>\n",
       "      <td>0.718546</td>\n",
       "      <td>0.803378</td>\n",
       "      <td>1</td>\n",
       "      <td>9</td>\n",
       "      <td>{u'count_vectorizer__min_df': 1, u'model__max_...</td>\n",
       "      <td>147</td>\n",
       "      <td>0.674115</td>\n",
       "      <td>0.828358</td>\n",
       "      <td>0.763060</td>\n",
       "      <td>0.778399</td>\n",
       "      <td>0.000275</td>\n",
       "      <td>0.003076</td>\n",
       "      <td>0.044472</td>\n",
       "      <td>0.024980</td>\n",
       "    </tr>\n",
       "    <tr>\n",
       "      <th>9</th>\n",
       "      <td>0.283220</td>\n",
       "      <td>0.190407</td>\n",
       "      <td>0.720410</td>\n",
       "      <td>0.810838</td>\n",
       "      <td>1</td>\n",
       "      <td>10</td>\n",
       "      <td>{u'count_vectorizer__min_df': 1, u'model__max_...</td>\n",
       "      <td>139</td>\n",
       "      <td>0.677840</td>\n",
       "      <td>0.839552</td>\n",
       "      <td>0.763060</td>\n",
       "      <td>0.782123</td>\n",
       "      <td>0.103989</td>\n",
       "      <td>0.054250</td>\n",
       "      <td>0.042610</td>\n",
       "      <td>0.028715</td>\n",
       "    </tr>\n",
       "  </tbody>\n",
       "</table>\n",
       "</div>"
      ],
      "text/plain": [
       "   mean_fit_time  mean_score_time  mean_test_score  mean_train_score  \\\n",
       "0       0.223240         0.134354         0.637465          0.643061   \n",
       "1       0.189422         0.144906         0.628145          0.654251   \n",
       "2       0.266547         0.144642         0.649581          0.707385   \n",
       "3       0.260836         0.153770         0.648649          0.724176   \n",
       "4       0.207853         0.167801         0.657968          0.742803   \n",
       "5       0.316841         0.127253         0.670084          0.764236   \n",
       "6       0.188475         0.130112         0.675676          0.771698   \n",
       "7       0.192935         0.123057         0.706431          0.786608   \n",
       "8       0.192161         0.122357         0.718546          0.803378   \n",
       "9       0.283220         0.190407         0.720410          0.810838   \n",
       "\n",
       "  param_count_vectorizer__min_df param_model__max_depth  \\\n",
       "0                              1                      1   \n",
       "1                              1                      2   \n",
       "2                              1                      3   \n",
       "3                              1                      4   \n",
       "4                              1                      5   \n",
       "5                              1                      6   \n",
       "6                              1                      7   \n",
       "7                              1                      8   \n",
       "8                              1                      9   \n",
       "9                              1                     10   \n",
       "\n",
       "                                              params  rank_test_score  \\\n",
       "0  {u'count_vectorizer__min_df': 1, u'model__max_...              321   \n",
       "1  {u'count_vectorizer__min_df': 1, u'model__max_...              334   \n",
       "2  {u'count_vectorizer__min_df': 1, u'model__max_...              297   \n",
       "3  {u'count_vectorizer__min_df': 1, u'model__max_...              298   \n",
       "4  {u'count_vectorizer__min_df': 1, u'model__max_...              284   \n",
       "5  {u'count_vectorizer__min_df': 1, u'model__max_...              261   \n",
       "6  {u'count_vectorizer__min_df': 1, u'model__max_...              249   \n",
       "7  {u'count_vectorizer__min_df': 1, u'model__max_...              197   \n",
       "8  {u'count_vectorizer__min_df': 1, u'model__max_...              147   \n",
       "9  {u'count_vectorizer__min_df': 1, u'model__max_...              139   \n",
       "\n",
       "   split0_test_score  split0_train_score  split1_test_score  \\\n",
       "0           0.631285            0.647388           0.643657   \n",
       "1           0.612663            0.666045           0.643657   \n",
       "2           0.636872            0.731343           0.662313   \n",
       "3           0.635009            0.764925           0.662313   \n",
       "4           0.635009            0.770522           0.680970   \n",
       "5           0.640596            0.789179           0.699627   \n",
       "6           0.651769            0.804104           0.699627   \n",
       "7           0.666667            0.817164           0.746269   \n",
       "8           0.674115            0.828358           0.763060   \n",
       "9           0.677840            0.839552           0.763060   \n",
       "\n",
       "   split1_train_score  std_fit_time  std_score_time  std_test_score  \\\n",
       "0            0.638734      0.043699        0.010498        0.006186   \n",
       "1            0.642458      0.004405        0.011512        0.015497   \n",
       "2            0.683426      0.081912        0.005051        0.012721   \n",
       "3            0.683426      0.071916        0.010141        0.013652   \n",
       "4            0.715084      0.016297        0.040254        0.022980   \n",
       "5            0.739292      0.043254        0.008726        0.029515   \n",
       "6            0.739292      0.013189        0.001270        0.023929   \n",
       "7            0.756052      0.000488        0.003433        0.039801   \n",
       "8            0.778399      0.000275        0.003076        0.044472   \n",
       "9            0.782123      0.103989        0.054250        0.042610   \n",
       "\n",
       "   std_train_score  \n",
       "0         0.004327  \n",
       "1         0.011793  \n",
       "2         0.023958  \n",
       "3         0.040749  \n",
       "4         0.027719  \n",
       "5         0.024943  \n",
       "6         0.032406  \n",
       "7         0.030556  \n",
       "8         0.024980  \n",
       "9         0.028715  "
      ]
     },
     "execution_count": 135,
     "metadata": {},
     "output_type": "execute_result"
    }
   ],
   "source": [
    "from sklearn.model_selection import GridSearchCV\n",
    "from pandas import DataFrame\n",
    "\n",
    "gs = GridSearchCV(\n",
    "                    pipe,\n",
    "                    {\n",
    "                        \"count_vectorizer__min_df\": range(1,10)+range(10,30,5),\n",
    "                        \"model__max_depth\": range(1,20)+range(30,100,10)\n",
    "                    },\n",
    "                    cv=2,  # 5-fold cross validation\n",
    "                    n_jobs=1,  # run each hyperparameter in one of two parallel jobs\n",
    "                    scoring=\"accuracy\" # what could happen selecting \"precision\" as scoring measure?\n",
    "                )\n",
    "\n",
    "gs.fit(newsgroups_train.data,newsgroups_train.target)\n",
    "\n",
    "print gs.best_params_\n",
    "results = DataFrame(data = gs.cv_results_)\n",
    "results.head(10)"
   ]
  },
  {
   "cell_type": "code",
   "execution_count": 138,
   "metadata": {
    "collapsed": false
   },
   "outputs": [
    {
     "data": {
      "text/plain": [
       "<matplotlib.legend.Legend at 0x7f83a84c0c90>"
      ]
     },
     "execution_count": 138,
     "metadata": {},
     "output_type": "execute_result"
    },
    {
     "data": {
      "image/png": "[encoded data removed]",
      "text/plain": [
       "<matplotlib.figure.Figure at 0x7f83a8499b50>"
      ]
     },
     "metadata": {},
     "output_type": "display_data"
    }
   ],
   "source": [
    "\n",
    "for idx,mdf in enumerate([1,3,4,10,15,25]):\n",
    "    x = results[results['param_count_vectorizer__min_df']==mdf]['param_model__max_depth']\n",
    "    y = results[results['param_count_vectorizer__min_df']==mdf]['mean_test_score']\n",
    "\n",
    "    plt.plot(x,y,'.',label='{0}'.format(mdf))\n",
    "\n",
    "plt.legend()"
   ]
  },
  {
   "cell_type": "code",
   "execution_count": 140,
   "metadata": {
    "collapsed": false
   },
   "outputs": [
    {
     "data": {
      "text/plain": [
       "<matplotlib.legend.Legend at 0x7f83a82dc050>"
      ]
     },
     "execution_count": 140,
     "metadata": {},
     "output_type": "execute_result"
    },
    {
     "data": {
      "image/png": "[encoded data removed]",
      "text/plain": [
       "<matplotlib.figure.Figure at 0x7f83a82a1050>"
      ]
     },
     "metadata": {},
     "output_type": "display_data"
    }
   ],
   "source": [
    "for idx,depth in enumerate([10,20,30,40,50]):\n",
    "    x = results[results['param_model__max_depth']==depth]['param_count_vectorizer__min_df']\n",
    "    y = results[results['param_model__max_depth']==depth]['mean_test_score']\n",
    "\n",
    "    plt.plot(x,y,'.',label='{0}'.format(depth))\n",
    "\n",
    "plt.legend()\n"
   ]
  },
  {
   "cell_type": "code",
   "execution_count": 147,
   "metadata": {
    "collapsed": false
   },
   "outputs": [
    {
     "name": "stdout",
     "output_type": "stream",
     "text": [
      "Training score 0.982292637465\n",
      "Test score 0.781206171108\n"
     ]
    }
   ],
   "source": [
    "pipe.set_params(model__max_depth=60,count_vectorizer__min_df=1)\n",
    "pipe = pipe.fit(newsgroups_train.data,newsgroups_train.target)\n",
    "\n",
    "score_test = pipe.score(newsgroups_test.data,newsgroups_test.target)\n",
    "score_train = pipe.score(newsgroups_train.data,newsgroups_train.target)\n",
    "\n",
    "print \"Training score\",score_train\n",
    "print \"Test score\",score_test"
   ]
  },
  {
   "cell_type": "code",
   "execution_count": 143,
   "metadata": {
    "collapsed": false
   },
   "outputs": [
    {
     "name": "stdout",
     "output_type": "stream",
     "text": [
      "         1 - space     0.272907203133\n",
      "         2 - god       0.125155501024\n",
      "         3 - religion  0.0670886218011\n",
      "         4 - orbit     0.0452212700456\n",
      "         5 - nasa      0.0387512924238\n",
      "         6 - people    0.0352314133145\n",
      "         7 - like      0.0349746844535\n",
      "         8 - morality  0.0327746662239\n",
      "         9 - bobby     0.0284819909572\n",
      "        10 - high      0.0222277831381\n",
      "        11 - argument  0.0218592541272\n",
      "        12 - launch    0.0206730379184\n",
      "        13 - islamic   0.0175998185354\n",
      "        14 - religious 0.0162834628888\n",
      "        15 - bible     0.0154813218598\n",
      "        16 - wrong     0.0154797112237\n",
      "        17 - stay      0.0153937033782\n",
      "        18 - agree     0.0149480891131\n",
      "        19 - right     0.0145675016544\n",
      "        20 - ve        0.0143136874531\n",
      "        21 - bit       0.0137711366944\n",
      "        22 - got       0.0132985326362\n",
      "        23 - imagine   0.0121073106417\n",
      "        24 - aren      0.0112320833664\n",
      "        25 - usl       0.0106205718352\n",
      "        26 - posts     0.00820519703394\n",
      "        27 - course    0.00674563249661\n",
      "        28 - waste     0.00551217970223\n",
      "        29 - crystal   0.00547976312776\n",
      "        30 - motivate  0.00545414850321\n",
      "        31 - bucaille  0.00539605698069\n",
      "        32 - used      0.00535941143243\n",
      "        33 - prosecute 0.00535941143243\n",
      "        34 - branches  0.0053073060435\n",
      "        35 - maybe     0.00484580117016\n",
      "        36 - collective0.00443044678414\n",
      "        37 - list      0.00376895646568\n",
      "        38 - sex       0.00369203898679\n",
      "        39 - e24              0.0\n",
      "        40 - earned           0.0\n",
      "        41 - earnest          0.0\n",
      "        42 - e_downey         0.0\n",
      "        43 - eafb             0.0\n",
      "        44 - eagle            0.0\n",
      "        45 - eager            0.0\n",
      "        46 - earn             0.0\n",
      "        47 - early            0.0\n",
      "        48 - earliest         0.0\n",
      "        49 - eagerly          0.0\n",
      "        50 - earlier          0.0\n"
     ]
    }
   ],
   "source": [
    "for idx in xrange(1,51):\n",
    "    vocabulary_index = pipe.named_steps['model'].feature_importances_.argsort(axis=0)[-1*idx]\n",
    "    relevance = pipe.named_steps['model'].feature_importances_[vocabulary_index]\n",
    "    word = pipe.named_steps['count_vectorizer'].get_feature_names()[vocabulary_index]\n",
    "    \n",
    "    print \"{0:10} - {1:10}{2:10}\".format(idx,word,relevance)"
   ]
  },
  {
   "cell_type": "code",
   "execution_count": 123,
   "metadata": {
    "collapsed": false
   },
   "outputs": [
    {
     "name": "stdout",
     "output_type": "stream",
     "text": [
      "593\n"
     ]
    }
   ],
   "source": [
    "# to understand\n",
    "cats = ['sci.space']\n",
    "newsgroups_space = fetch_20newsgroups(subset='train', categories=cats,remove=('headers', 'footers', 'quotes'))\n",
    "print len(newsgroups_space.data)"
   ]
  },
  {
   "cell_type": "code",
   "execution_count": 125,
   "metadata": {
    "collapsed": false
   },
   "outputs": [
    {
     "name": "stdout",
     "output_type": "stream",
     "text": [
      "(1, 214)\n"
     ]
    }
   ],
   "source": [
    "cv_ds = pipe.named_steps['count_vectorizer'].transform(newsgroups_space.data)\n",
    "space_idx = pipe.named_steps['count_vectorizer'].vocabulary_['space']\n",
    "\n",
    "entry_where_space_is_present = cv_ds[cv_ds[:,space_idx]>0]\n",
    "print entry_where_space_is_present.shape"
   ]
  }
 ],
 "metadata": {
  "anaconda-cloud": {},
  "kernelspec": {
   "display_name": "Python [default]",
   "language": "python",
   "name": "python2"
  },
  "language_info": {
   "codemirror_mode": {
    "name": "ipython",
    "version": 2
   },
   "file_extension": ".py",
   "mimetype": "text/x-python",
   "name": "python",
   "nbconvert_exporter": "python",
   "pygments_lexer": "ipython2",
   "version": "2.7.12"
  }
 },
 "nbformat": 4,
 "nbformat_minor": 2
}
